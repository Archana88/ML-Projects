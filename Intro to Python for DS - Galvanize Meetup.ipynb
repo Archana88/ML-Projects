{
 "cells": [
  {
   "cell_type": "markdown",
   "metadata": {},
   "source": [
    "# Intro to Python for DS"
   ]
  },
  {
   "cell_type": "markdown",
   "metadata": {},
   "source": [
    "#### Variables "
   ]
  },
  {
   "cell_type": "code",
   "execution_count": null,
   "metadata": {},
   "outputs": [],
   "source": [
    "f = 7.5\n",
    "type(f)\n",
    "'This can be used as a documentation cell too'"
   ]
  },
  {
   "cell_type": "code",
   "execution_count": 3,
   "metadata": {},
   "outputs": [
    {
     "data": {
      "text/plain": [
       "complex"
      ]
     },
     "execution_count": 3,
     "metadata": {},
     "output_type": "execute_result"
    }
   ],
   "source": [
    "h = complex(3,4)\n",
    "type(h)"
   ]
  },
  {
   "cell_type": "code",
   "execution_count": 4,
   "metadata": {},
   "outputs": [
    {
     "data": {
      "text/plain": [
       "58.5"
      ]
     },
     "execution_count": 4,
     "metadata": {},
     "output_type": "execute_result"
    }
   ],
   "source": [
    "7*8+3-2/4"
   ]
  },
  {
   "cell_type": "code",
   "execution_count": 5,
   "metadata": {},
   "outputs": [
    {
     "data": {
      "text/plain": [
       "1"
      ]
     },
     "execution_count": 5,
     "metadata": {},
     "output_type": "execute_result"
    }
   ],
   "source": [
    "15//8 # floor divide - floors the answer"
   ]
  },
  {
   "cell_type": "code",
   "execution_count": 6,
   "metadata": {},
   "outputs": [
    {
     "data": {
      "text/plain": [
       "5764801"
      ]
     },
     "execution_count": 6,
     "metadata": {},
     "output_type": "execute_result"
    }
   ],
   "source": [
    "f=7\n",
    "g=8\n",
    "f**g # old fashioned exponential"
   ]
  },
  {
   "cell_type": "code",
   "execution_count": 7,
   "metadata": {},
   "outputs": [
    {
     "data": {
      "text/plain": [
       "5764801"
      ]
     },
     "execution_count": 7,
     "metadata": {},
     "output_type": "execute_result"
    }
   ],
   "source": [
    "pow(f,g) # exponential another way"
   ]
  },
  {
   "cell_type": "code",
   "execution_count": 8,
   "metadata": {},
   "outputs": [
    {
     "data": {
      "text/plain": [
       "3.141592653589793"
      ]
     },
     "execution_count": 8,
     "metadata": {},
     "output_type": "execute_result"
    }
   ],
   "source": [
    "#variables\n",
    "\n",
    "import math\n",
    "\n",
    "pi = 3.1415\n",
    "math.pi"
   ]
  },
  {
   "cell_type": "code",
   "execution_count": 9,
   "metadata": {},
   "outputs": [
    {
     "data": {
      "text/plain": [
       "False"
      ]
     },
     "execution_count": 9,
     "metadata": {},
     "output_type": "execute_result"
    }
   ],
   "source": [
    "pi == math.pi # false cos it is nt exactly same\n",
    "# boolean values are true (1) and false (0)"
   ]
  },
  {
   "cell_type": "code",
   "execution_count": 10,
   "metadata": {},
   "outputs": [
    {
     "name": "stdout",
     "output_type": "stream",
     "text": [
      "79.94149999999999\n"
     ]
    }
   ],
   "source": [
    "f=76.8\n",
    "\n",
    "g=f+pi\n",
    "print(g)"
   ]
  },
  {
   "cell_type": "code",
   "execution_count": 11,
   "metadata": {},
   "outputs": [
    {
     "name": "stdout",
     "output_type": "stream",
     "text": [
      "6\n",
      "11\n"
     ]
    }
   ],
   "source": [
    "x=1 # assignment\n",
    "x=x+5\n",
    "print(x)\n",
    "x+=5\n",
    "print(x)"
   ]
  },
  {
   "cell_type": "code",
   "execution_count": 12,
   "metadata": {},
   "outputs": [
    {
     "name": "stdout",
     "output_type": "stream",
     "text": [
      "44\n",
      "22.0\n",
      "7.0\n"
     ]
    }
   ],
   "source": [
    "x *= 4\n",
    "print(x)\n",
    "x /= 2\n",
    "print(x)\n",
    "x//=3 #floor divide\n",
    "print(x)"
   ]
  },
  {
   "cell_type": "markdown",
   "metadata": {},
   "source": [
    "# If statements"
   ]
  },
  {
   "cell_type": "code",
   "execution_count": 13,
   "metadata": {},
   "outputs": [
    {
     "name": "stdout",
     "output_type": "stream",
     "text": [
      "awesome!\n"
     ]
    }
   ],
   "source": [
    "x=4\n",
    "if x%2 == 0: # have a colon for if\n",
    "    print(\"awesome!\")"
   ]
  },
  {
   "cell_type": "code",
   "execution_count": 14,
   "metadata": {},
   "outputs": [
    {
     "data": {
      "text/plain": [
       "True"
      ]
     },
     "execution_count": 14,
     "metadata": {},
     "output_type": "execute_result"
    }
   ],
   "source": [
    "1<=2"
   ]
  },
  {
   "cell_type": "code",
   "execution_count": 15,
   "metadata": {},
   "outputs": [
    {
     "data": {
      "text/plain": [
       "False"
      ]
     },
     "execution_count": 15,
     "metadata": {},
     "output_type": "execute_result"
    }
   ],
   "source": [
    "1==2"
   ]
  },
  {
   "cell_type": "code",
   "execution_count": 16,
   "metadata": {},
   "outputs": [
    {
     "data": {
      "text/plain": [
       "True"
      ]
     },
     "execution_count": 16,
     "metadata": {},
     "output_type": "execute_result"
    }
   ],
   "source": [
    "1!=2"
   ]
  },
  {
   "cell_type": "code",
   "execution_count": 17,
   "metadata": {},
   "outputs": [
    {
     "data": {
      "text/plain": [
       "False"
      ]
     },
     "execution_count": 17,
     "metadata": {},
     "output_type": "execute_result"
    }
   ],
   "source": [
    "(345%4) == 3**4 # use paranthesis for better reading"
   ]
  },
  {
   "cell_type": "code",
   "execution_count": 18,
   "metadata": {},
   "outputs": [
    {
     "name": "stdout",
     "output_type": "stream",
     "text": [
      "Enter a number6\n"
     ]
    }
   ],
   "source": [
    "x = input(\"Enter a number\") # in python 3 we might want to cover the i/p stmt by an int()"
   ]
  },
  {
   "cell_type": "code",
   "execution_count": 19,
   "metadata": {},
   "outputs": [
    {
     "data": {
      "text/plain": [
       "str"
      ]
     },
     "execution_count": 19,
     "metadata": {},
     "output_type": "execute_result"
    }
   ],
   "source": [
    "type(x)"
   ]
  },
  {
   "cell_type": "code",
   "execution_count": 20,
   "metadata": {},
   "outputs": [
    {
     "data": {
      "text/plain": [
       "bool"
      ]
     },
     "execution_count": 20,
     "metadata": {},
     "output_type": "execute_result"
    }
   ],
   "source": [
    "type(True)"
   ]
  },
  {
   "cell_type": "code",
   "execution_count": 21,
   "metadata": {},
   "outputs": [
    {
     "name": "stdout",
     "output_type": "stream",
     "text": [
      "Enter a number: -3\n",
      "You entered a negative number!\n"
     ]
    }
   ],
   "source": [
    "x=(int(input('Enter a number: ')))\n",
    "if x<0:\n",
    "    print('You entered a negative number!')\n",
    "elif x>0:\n",
    "    print('You entered a positive number!')\n",
    "else:\n",
    "    print('You entered 0!') # executes by default"
   ]
  },
  {
   "cell_type": "code",
   "execution_count": 22,
   "metadata": {},
   "outputs": [
    {
     "name": "stdout",
     "output_type": "stream",
     "text": [
      "Enter a number: 8\n",
      "Hello: 8\n"
     ]
    }
   ],
   "source": [
    "x=(int(input('Enter a number: ')))\n",
    "if x>5:\n",
    "    if x<10:\n",
    "        print(\"Hello:\", x)"
   ]
  },
  {
   "cell_type": "code",
   "execution_count": 23,
   "metadata": {},
   "outputs": [
    {
     "name": "stdout",
     "output_type": "stream",
     "text": [
      "Enter a number: 9\n"
     ]
    }
   ],
   "source": [
    "# the above code rewritten as:\n",
    "x=(int(input('Enter a number: ')))\n",
    "if x>5 and x<10 and x<7:\n",
    "        print(\"Hello:\", x)"
   ]
  },
  {
   "cell_type": "markdown",
   "metadata": {},
   "source": [
    "# While and for loops\n"
   ]
  },
  {
   "cell_type": "code",
   "execution_count": 24,
   "metadata": {},
   "outputs": [
    {
     "name": "stdout",
     "output_type": "stream",
     "text": [
      "0\n",
      "1\n",
      "0\n",
      "1\n",
      "0\n",
      "1\n",
      "0\n",
      "1\n",
      "0\n",
      "1\n",
      "while loop result\n",
      "-2\n",
      "-1\n",
      "0\n",
      "1\n",
      "2\n",
      "3\n",
      "4\n",
      "5\n",
      "6\n",
      "7\n",
      "8\n",
      "9\n",
      "10\n"
     ]
    }
   ],
   "source": [
    "for i in range(10):\n",
    "    print(i%2) # returns reminder: modulo\n",
    "\n",
    "x=-3\n",
    "print(\"while loop result\")\n",
    "\n",
    "while x<10:\n",
    "    x+=1\n",
    "    print(x)"
   ]
  },
  {
   "cell_type": "code",
   "execution_count": 25,
   "metadata": {},
   "outputs": [
    {
     "name": "stdout",
     "output_type": "stream",
     "text": [
      "total:  1\n",
      "x: 2\n",
      "total:  3\n",
      "x: 3\n",
      "total:  6\n",
      "x: 4\n",
      "total:  10\n",
      "x: 5\n",
      "total:  15\n",
      "x: 6\n",
      "total:  21\n",
      "x: 7\n",
      "total:  28\n",
      "x: 8\n",
      "The sume exceeded 25\n"
     ]
    }
   ],
   "source": [
    "(total,x) = (0,1)\n",
    "while x<=8: \n",
    "    if total>25:\n",
    "        total = 25\n",
    "        print(\"The sume exceeded 25\")\n",
    "        break # breaks the top loop and exits\n",
    "    total +=x \n",
    "    print(\"total: \", total)\n",
    "    x+=1\n",
    "    print(\"x:\",x)"
   ]
  },
  {
   "cell_type": "code",
   "execution_count": 26,
   "metadata": {},
   "outputs": [
    {
     "name": "stdout",
     "output_type": "stream",
     "text": [
      "1  \n",
      "2  \n",
      "3  \n",
      "4  \n"
     ]
    }
   ],
   "source": [
    "L = list() # always starts at index 0\n",
    "L = [1,2,3,4]\n",
    "for i in L:\n",
    "    print(i, \" \")"
   ]
  },
  {
   "cell_type": "code",
   "execution_count": 28,
   "metadata": {},
   "outputs": [
    {
     "name": "stdout",
     "output_type": "stream",
     "text": [
      "element: 0 : 1\n",
      "element: 1 : 2\n",
      "element: 2 : 3\n",
      "element: 3 : 4\n"
     ]
    }
   ],
   "source": [
    "for i,e in enumerate(L):\n",
    "    print (\"element:\", i,':',e)  # with braces for python 3"
   ]
  },
  {
   "cell_type": "code",
   "execution_count": 29,
   "metadata": {},
   "outputs": [
    {
     "name": "stdout",
     "output_type": "stream",
     "text": [
      "[200, 300]\n",
      "[300, 400]\n"
     ]
    }
   ],
   "source": [
    "L[1:2:1] # start:stop:step\n",
    "\n",
    "# this operation is called slicing\n",
    "\n",
    "# values[1:3]  Index 1 through index 3.\n",
    "# values[2:-1] Index 2 through index one from last.\n",
    "# values[:2]   Start through index 2.\n",
    "# values[2:]   Index 2 through end.\n",
    "# values[::2]  Start through end, skipping ahead 2 places each time.\n",
    "\n",
    "values = [100, 200, 300, 400, 500]\n",
    "# Get elements from second index to third index, excluding 3rd index\n",
    "slice = values[1:3]\n",
    "print(slice)\n",
    "\n",
    "values = [100, 200, 300, 400, 500]\n",
    "# Slice from third index to index one from last.\n",
    "slice = values[2:-1]\n",
    "print(slice)\n"
   ]
  },
  {
   "cell_type": "code",
   "execution_count": 30,
   "metadata": {
    "collapsed": true
   },
   "outputs": [],
   "source": [
    "h = \"Hello my name is archana\" # strings are immutable"
   ]
  },
  {
   "cell_type": "code",
   "execution_count": 31,
   "metadata": {},
   "outputs": [
    {
     "data": {
      "text/plain": [
       "False"
      ]
     },
     "execution_count": 31,
     "metadata": {},
     "output_type": "execute_result"
    }
   ],
   "source": [
    "h.isupper() # h. and press tab to know all functions on string"
   ]
  },
  {
   "cell_type": "code",
   "execution_count": 33,
   "metadata": {},
   "outputs": [
    {
     "name": "stdout",
     "output_type": "stream",
     "text": [
      "[1, 2, 3, 4]\n",
      "4\n",
      "[1, 3, 5]\n"
     ]
    }
   ],
   "source": [
    "L = [1,2,3,4]\n",
    "print (L)\n",
    "print(L.pop()) # removes the last element in the list\n",
    "L.remove(2) # removes the element from list\n",
    "L.append(5) # adds the element to the list\n",
    "print (L)"
   ]
  },
  {
   "cell_type": "code",
   "execution_count": 35,
   "metadata": {},
   "outputs": [
    {
     "name": "stdout",
     "output_type": "stream",
     "text": [
      "[1, 3, 5, 2]\n"
     ]
    }
   ],
   "source": [
    "L.insert(3,2) # index, element\n",
    "print (L)"
   ]
  },
  {
   "cell_type": "markdown",
   "metadata": {},
   "source": [
    "# Tuples"
   ]
  },
  {
   "cell_type": "code",
   "execution_count": 36,
   "metadata": {},
   "outputs": [
    {
     "data": {
      "text/plain": [
       "1"
      ]
     },
     "execution_count": 36,
     "metadata": {},
     "output_type": "execute_result"
    }
   ],
   "source": [
    "# important cos: immutable & safe, fast (as there are not many functions to change tuple like list), takes up less space, \n",
    "# mostly used in data science\n",
    "# A tuple is represented by a number of values separated by commas. \n",
    "# and the output is surrounded by parentheses so that nested tuples are processed correctly. \n",
    "# usually store things in tuple that should not be modified. all of the following are tuples:\n",
    "\n",
    "two = (1,2)\n",
    "three = 1,2\n",
    "four = tuple()\n",
    "three[0] # to access a tuple"
   ]
  },
  {
   "cell_type": "code",
   "execution_count": 37,
   "metadata": {
    "collapsed": true
   },
   "outputs": [],
   "source": [
    "t = (1,[1,2]) # here changing t[0] will throw error, t[1][0] will accept it, as the second element is a list in itself"
   ]
  },
  {
   "cell_type": "markdown",
   "metadata": {},
   "source": [
    "# Dictionaries"
   ]
  },
  {
   "cell_type": "code",
   "execution_count": 38,
   "metadata": {
    "collapsed": true
   },
   "outputs": [],
   "source": [
    "# Dictionary is an unordered set of key: value pairs, with the requirement that the keys are unique (within one dictionary). \n",
    "# A pair of braces creates an empty dictionary: {}. \n",
    "# uses key-value paradigm, key itself could be Dictionary, list, tuple\n",
    "# important: faster than any other storage structure, store clean data, safer, ordered by the key value- ascending\n",
    "# faster & convinient cos in list or tuple, if we store like key and value, we ll need to do indexing to find it. \n",
    "# But in Dictionary its easier to access by using the key\n",
    "# Avoid camelcase to name variables or data structures, use underscore"
   ]
  },
  {
   "cell_type": "code",
   "execution_count": 39,
   "metadata": {},
   "outputs": [],
   "source": [
    "# inbuilt functions are: .keys, .values etc\n",
    "#dict.keys()\n",
    "#dict.values()\n",
    "#dict['California'] = 'Sacramento' # adds a new key-value pair to the dict"
   ]
  },
  {
   "cell_type": "markdown",
   "metadata": {},
   "source": [
    "# Sets"
   ]
  },
  {
   "cell_type": "code",
   "execution_count": 40,
   "metadata": {},
   "outputs": [
    {
     "data": {
      "text/plain": [
       "{4}"
      ]
     },
     "execution_count": 40,
     "metadata": {},
     "output_type": "execute_result"
    }
   ],
   "source": [
    "# usually used for boolean operations\n",
    "s ={4,8,9}\n",
    "s.add(10)\n",
    "r = {4,5,6}\n",
    "s.intersection(r) # returns the common or union value among the 2 sets"
   ]
  },
  {
   "cell_type": "markdown",
   "metadata": {},
   "source": [
    "# Functions"
   ]
  },
  {
   "cell_type": "code",
   "execution_count": 41,
   "metadata": {},
   "outputs": [
    {
     "data": {
      "text/plain": [
       "4"
      ]
     },
     "execution_count": 41,
     "metadata": {},
     "output_type": "execute_result"
    }
   ],
   "source": [
    "def add_one(x):\n",
    "    return x+1\n",
    "add_one(3)"
   ]
  },
  {
   "cell_type": "markdown",
   "metadata": {},
   "source": [
    "# Class"
   ]
  },
  {
   "cell_type": "code",
   "execution_count": 42,
   "metadata": {
    "collapsed": true
   },
   "outputs": [],
   "source": [
    "# class of object,like in java\n",
    "# for ease of access (as an object), reusability of code, call functions defined inside a class, \n",
    "# save space by pointing to same object\n",
    "# design principles of OOPS: Inheritance, abstraction or encapsulation, polymorphism"
   ]
  },
  {
   "cell_type": "code",
   "execution_count": 43,
   "metadata": {
    "collapsed": true
   },
   "outputs": [],
   "source": [
    "class OurClass():\n",
    "    def __init__(self, name=None, location=None, size=None): # lik java constructor to initialize all values used in the class\n",
    "        self.name1 = 'Archana'\n",
    "        self.name = name\n",
    "        self.location = location\n",
    "        self.size = size\n",
    "        self.questions_asked = []\n",
    "    \n",
    "    def add_question_asked(self, question):\n",
    "        self.questions_asked.append(question)"
   ]
  },
  {
   "cell_type": "code",
   "execution_count": 44,
   "metadata": {
    "collapsed": true
   },
   "outputs": [],
   "source": [
    "thisclass = OurClass()\n",
    "thisclass.name = 'Intro to python for DS'"
   ]
  },
  {
   "cell_type": "code",
   "execution_count": 45,
   "metadata": {
    "collapsed": true
   },
   "outputs": [],
   "source": [
    "# std data science tools in python, as is 'alias' -  prefered way of importing lib, to know where it came from\n",
    "import numpy as np \n",
    "import pandas as pd # std lib for python\n",
    "import scipy as sp\n",
    "import sklearn as skp # scikit-learn very important for ML\n",
    "import math as m # can call m.factorial()\n",
    "# or\n",
    "from math import * # can call factorial()"
   ]
  },
  {
   "cell_type": "code",
   "execution_count": 46,
   "metadata": {
    "collapsed": true
   },
   "outputs": [],
   "source": [
    "# pandas dataframe stores values in the form of dictionaries\n",
    "# pandas dataframe stores values in form of list\n",
    "# pandas functions return in form of pandas dataframe object\n",
    "# refer documentation: pandas has pd.read_csv, pd.read_sql, pd.read_excel\n",
    "# refer UCI database, tells wat data contains: integer, real (float)\n",
    "# import database using pandas to dataframe, and can call functions like df.columns, slice, df.copy, df.head\n",
    "# df.describe - to display average of the dataset in the form of a table"
   ]
  },
  {
   "cell_type": "code",
   "execution_count": null,
   "metadata": {
    "collapsed": true
   },
   "outputs": [],
   "source": []
  }
 ],
 "metadata": {
  "kernelspec": {
   "display_name": "Python 3",
   "language": "python",
   "name": "python3"
  },
  "language_info": {
   "codemirror_mode": {
    "name": "ipython",
    "version": 3
   },
   "file_extension": ".py",
   "mimetype": "text/x-python",
   "name": "python",
   "nbconvert_exporter": "python",
   "pygments_lexer": "ipython3",
   "version": "3.5.2"
  }
 },
 "nbformat": 4,
 "nbformat_minor": 2
}
