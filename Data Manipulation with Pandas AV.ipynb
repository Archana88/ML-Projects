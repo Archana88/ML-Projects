{
 "cells": [
  {
   "cell_type": "markdown",
   "metadata": {},
   "source": [
    "# Data Manipulation"
   ]
  },
  {
   "cell_type": "code",
   "execution_count": 1,
   "metadata": {},
   "outputs": [],
   "source": [
    "import pandas as pd\n",
    "import numpy as np\n",
    "data = pd.read_csv(\"train_loanPredict_AV.csv\", index_col=\"Loan_ID\")"
   ]
  },
  {
   "cell_type": "code",
   "execution_count": 2,
   "metadata": {},
   "outputs": [
    {
     "name": "stdout",
     "output_type": "stream",
     "text": [
      "          Gender     Education Loan_Status\n",
      "Loan_ID                                   \n",
      "LP001155  Female  Not Graduate           Y\n",
      "LP001669  Female  Not Graduate           Y\n",
      "LP001692  Female  Not Graduate           Y\n",
      "LP001908  Female  Not Graduate           Y\n",
      "LP002300  Female  Not Graduate           Y\n",
      "LP002314  Female  Not Graduate           Y\n",
      "LP002407  Female  Not Graduate           Y\n",
      "LP002489  Female  Not Graduate           Y\n",
      "LP002502  Female  Not Graduate           Y\n",
      "LP002534  Female  Not Graduate           Y\n",
      "LP002582  Female  Not Graduate           Y\n",
      "LP002731  Female  Not Graduate           Y\n",
      "LP002757  Female  Not Graduate           Y\n",
      "LP002917  Female  Not Graduate           Y\n",
      "\n",
      "Total Count:  14\n"
     ]
    }
   ],
   "source": [
    "# Boolean Indexing\n",
    "#.loc returns df\n",
    "f = data.loc[(data[\"Gender\"] == \"Female\") & (data[\"Education\"] == \"Not Graduate\") & (data[\"Loan_Status\"] == \"Y\"), [\"Gender\", \"Education\", \"Loan_Status\"]]\n",
    "print (f)\n",
    "print (\"\\nTotal Count: \", f[\"Gender\"].count())"
   ]
  },
  {
   "cell_type": "code",
   "execution_count": 3,
   "metadata": {},
   "outputs": [
    {
     "name": "stdout",
     "output_type": "stream",
     "text": [
      "Missing values per column\n",
      "Gender               13\n",
      "Married               3\n",
      "Dependents           15\n",
      "Education             0\n",
      "Self_Employed        32\n",
      "ApplicantIncome       0\n",
      "CoapplicantIncome     0\n",
      "LoanAmount           22\n",
      "Loan_Amount_Term     14\n",
      "Credit_History       50\n",
      "Property_Area         0\n",
      "Loan_Status           0\n",
      "dtype: int64\n",
      "\n",
      "Missing values per row\n",
      "Loan_ID\n",
      "LP001002    1\n",
      "LP001003    0\n",
      "LP001005    0\n",
      "LP001006    0\n",
      "LP001008    0\n",
      "dtype: int64\n"
     ]
    }
   ],
   "source": [
    "# Apply returns some value after passing each row/column of a data frame with some function\n",
    "def find_missing(x):\n",
    "    return sum(x.isnull())\n",
    "\n",
    "print (\"Missing values per column\")\n",
    "print (data.apply(find_missing, axis = 0)) # axis=0 - is applied to each column\n",
    "print (\"\\nMissing values per row\")\n",
    "print (data.apply(find_missing, axis = 1).head()) # axis=1 - is applied to each row"
   ]
  },
  {
   "cell_type": "code",
   "execution_count": 4,
   "metadata": {},
   "outputs": [
    {
     "name": "stdout",
     "output_type": "stream",
     "text": [
      "Gender                0\n",
      "Married               0\n",
      "Dependents           15\n",
      "Education             0\n",
      "Self_Employed         0\n",
      "ApplicantIncome       0\n",
      "CoapplicantIncome     0\n",
      "LoanAmount           22\n",
      "Loan_Amount_Term     14\n",
      "Credit_History       50\n",
      "Property_Area         0\n",
      "Loan_Status           0\n",
      "dtype: int64\n"
     ]
    }
   ],
   "source": [
    "# Imputing missing values\n",
    "from scipy.stats import mode\n",
    "\n",
    "# mode can be an array as there can be multiple values with high frequency. \n",
    "# We will take the first one by default always - using mode()[0]\n",
    "\n",
    "data['Gender'].fillna(data['Gender'].mode()[0], inplace = True)\n",
    "data['Married'].fillna(data['Married'].mode()[0], inplace=True)\n",
    "data['Self_Employed'].fillna(data['Self_Employed'].mode()[0], inplace=True)\n",
    "\n",
    "# Now check the missing values again to confirm\n",
    "print (data.apply(find_missing, axis=0))  # axis=0 - is applied to each column\n"
   ]
  },
  {
   "cell_type": "markdown",
   "metadata": {},
   "source": [
    "To create MS Excel style pivot tables,  in this case, a key column is “LoanAmount” which has missing values. \n",
    "We can impute it using mean amount of each ‘Gender’, ‘Married’ and ‘Self_Employed’ group.\n",
    "Also Each index is made up of a combination of 3 values. \n",
    "This is called Multi-Indexing. It helps in performing operations really fast.\n"
   ]
  },
  {
   "cell_type": "code",
   "execution_count": 5,
   "metadata": {},
   "outputs": [
    {
     "name": "stdout",
     "output_type": "stream",
     "text": [
      "                              LoanAmount\n",
      "Gender Married Self_Employed            \n",
      "Female No      No             114.691176\n",
      "               Yes            125.800000\n",
      "       Yes     No             134.222222\n",
      "               Yes            282.250000\n",
      "Male   No      No             129.936937\n",
      "               Yes            180.588235\n",
      "       Yes     No             153.882736\n",
      "               Yes            169.395833\n"
     ]
    }
   ],
   "source": [
    "impute_Loan = data.pivot_table(values = [\"LoanAmount\"], index = [\"Gender\", \"Married\", \"Self_Employed\"], aggfunc = np.mean)\n",
    "print(impute_Loan)\n"
   ]
  },
  {
   "cell_type": "markdown",
   "metadata": {},
   "source": [
    "Imputing the calculated values:\n",
    "\n",
    "Multi-index requires tuple for defining groups of indices in loc statement\n",
    "\n",
    ".values[0] suffix is required because, by default a series element is returned which has an index not matching with that of the dataframe. In this case, a direct assignment gives an error.\n"
   ]
  },
  {
   "cell_type": "code",
   "execution_count": 6,
   "metadata": {},
   "outputs": [
    {
     "name": "stdout",
     "output_type": "stream",
     "text": [
      "Gender                0\n",
      "Married               0\n",
      "Dependents           15\n",
      "Education             0\n",
      "Self_Employed         0\n",
      "ApplicantIncome       0\n",
      "CoapplicantIncome     0\n",
      "LoanAmount            0\n",
      "Loan_Amount_Term     14\n",
      "Credit_History       50\n",
      "Property_Area         0\n",
      "Loan_Status           0\n",
      "dtype: int64\n"
     ]
    }
   ],
   "source": [
    "for i,row in data.loc[data[\"LoanAmount\"].isnull(),:].iterrows():\n",
    "    index = tuple([row[\"Gender\"], row[\"Married\"], row[\"Self_Employed\"]])\n",
    "    data.loc[i, \"LoanAmount\"] = impute_Loan.loc[index].values[0] \n",
    "\n",
    "    # values is used to get the scalar numeric value, rather than along with the column name\n",
    "\n",
    "#print (index)\n",
    "#print (impute_Loan.loc[index].values[0]) \n",
    "# check missing values of LoanAmount\n",
    "print (data.apply(find_missing, axis=0))"
   ]
  },
  {
   "cell_type": "markdown",
   "metadata": {},
   "source": [
    "'crosstab' This function is used to get an initial “feel” (view) of the data. Here, we can validate some basic hypothesis. \n",
    "For instance, in this case, “Credit_History” is expected to affect the loan status significantly. \n",
    "This can be tested using cross-tabulation as shown below:"
   ]
  },
  {
   "cell_type": "code",
   "execution_count": 7,
   "metadata": {},
   "outputs": [
    {
     "data": {
      "text/html": [
       "<div>\n",
       "<style>\n",
       "    .dataframe thead tr:only-child th {\n",
       "        text-align: right;\n",
       "    }\n",
       "\n",
       "    .dataframe thead th {\n",
       "        text-align: left;\n",
       "    }\n",
       "\n",
       "    .dataframe tbody tr th {\n",
       "        vertical-align: top;\n",
       "    }\n",
       "</style>\n",
       "<table border=\"1\" class=\"dataframe\">\n",
       "  <thead>\n",
       "    <tr style=\"text-align: right;\">\n",
       "      <th>Loan_Status</th>\n",
       "      <th>N</th>\n",
       "      <th>Y</th>\n",
       "      <th>All</th>\n",
       "    </tr>\n",
       "    <tr>\n",
       "      <th>Credit_History</th>\n",
       "      <th></th>\n",
       "      <th></th>\n",
       "      <th></th>\n",
       "    </tr>\n",
       "  </thead>\n",
       "  <tbody>\n",
       "    <tr>\n",
       "      <th>0.0</th>\n",
       "      <td>0.921348</td>\n",
       "      <td>0.078652</td>\n",
       "      <td>1.0</td>\n",
       "    </tr>\n",
       "    <tr>\n",
       "      <th>1.0</th>\n",
       "      <td>0.204211</td>\n",
       "      <td>0.795789</td>\n",
       "      <td>1.0</td>\n",
       "    </tr>\n",
       "    <tr>\n",
       "      <th>All</th>\n",
       "      <td>0.317376</td>\n",
       "      <td>0.682624</td>\n",
       "      <td>1.0</td>\n",
       "    </tr>\n",
       "  </tbody>\n",
       "</table>\n",
       "</div>"
      ],
      "text/plain": [
       "Loan_Status            N         Y  All\n",
       "Credit_History                         \n",
       "0.0             0.921348  0.078652  1.0\n",
       "1.0             0.204211  0.795789  1.0\n",
       "All             0.317376  0.682624  1.0"
      ]
     },
     "execution_count": 7,
     "metadata": {},
     "output_type": "execute_result"
    }
   ],
   "source": [
    "pd.crosstab(data[\"Credit_History\"], data['Loan_Status'], margins = True)\n",
    "\n",
    "# to view this in %, apply below fn.\n",
    "\n",
    "def findpercentage(x):\n",
    "    return x/float(x[-1])\n",
    "\n",
    "pd.crosstab(data[\"Credit_History\"], data['Loan_Status'], margins = True).apply(findpercentage, axis = 1)\n"
   ]
  },
  {
   "cell_type": "markdown",
   "metadata": {},
   "source": [
    "Now, it is evident that people with a credit history have much higher chances of getting a loan as 80% people with credit \n",
    "history got a loan as compared to only 9% without credit history.\n",
    "\n",
    "But that’s not it. It tells an interesting story. Since I know that having a credit history is super important, \n",
    "what if I predict loan status to be Y for ones with credit history and N otherwise. Surprisingly, \n",
    "we’ll be right 82+378=460 times out of 614 which is a whopping 75%!\n",
    "\n",
    "I won’t blame you if you’re wondering why the hell do we need statistical models. \n",
    "But trust me, increasing the accuracy by even 0.001% beyond this mark is a challenging task. \n",
    "\n",
    "Note: 75% accuracy is on train set. The test set will be slightly different but close. \n",
    "Also, I hope this gives some intuition into why even a 0.05% increase in accuracy can result in jump of 500 ranks \n",
    "on the Kaggle leaderboard.\n"
   ]
  },
  {
   "cell_type": "code",
   "execution_count": 8,
   "metadata": {},
   "outputs": [
    {
     "data": {
      "text/html": [
       "<div>\n",
       "<style>\n",
       "    .dataframe thead tr:only-child th {\n",
       "        text-align: right;\n",
       "    }\n",
       "\n",
       "    .dataframe thead th {\n",
       "        text-align: left;\n",
       "    }\n",
       "\n",
       "    .dataframe tbody tr th {\n",
       "        vertical-align: top;\n",
       "    }\n",
       "</style>\n",
       "<table border=\"1\" class=\"dataframe\">\n",
       "  <thead>\n",
       "    <tr style=\"text-align: right;\">\n",
       "      <th></th>\n",
       "      <th>rates</th>\n",
       "    </tr>\n",
       "  </thead>\n",
       "  <tbody>\n",
       "    <tr>\n",
       "      <th>Rural</th>\n",
       "      <td>1000</td>\n",
       "    </tr>\n",
       "    <tr>\n",
       "      <th>Semiurban</th>\n",
       "      <td>3000</td>\n",
       "    </tr>\n",
       "    <tr>\n",
       "      <th>Urban</th>\n",
       "      <td>6000</td>\n",
       "    </tr>\n",
       "  </tbody>\n",
       "</table>\n",
       "</div>"
      ],
      "text/plain": [
       "           rates\n",
       "Rural       1000\n",
       "Semiurban   3000\n",
       "Urban       6000"
      ]
     },
     "execution_count": 8,
     "metadata": {},
     "output_type": "execute_result"
    }
   ],
   "source": [
    "# Merge dataframes\n",
    "\n",
    "prop_rates = pd.DataFrame([1000,3000,6000], index = ['Rural','Semiurban','Urban'], columns = ['rates'])\n",
    "prop_rates"
   ]
  },
  {
   "cell_type": "code",
   "execution_count": 9,
   "metadata": {},
   "outputs": [
    {
     "data": {
      "text/html": [
       "<div>\n",
       "<style>\n",
       "    .dataframe thead tr:only-child th {\n",
       "        text-align: right;\n",
       "    }\n",
       "\n",
       "    .dataframe thead th {\n",
       "        text-align: left;\n",
       "    }\n",
       "\n",
       "    .dataframe tbody tr th {\n",
       "        vertical-align: top;\n",
       "    }\n",
       "</style>\n",
       "<table border=\"1\" class=\"dataframe\">\n",
       "  <thead>\n",
       "    <tr style=\"text-align: right;\">\n",
       "      <th></th>\n",
       "      <th></th>\n",
       "      <th>LoanAmount</th>\n",
       "    </tr>\n",
       "    <tr>\n",
       "      <th>Property_Area</th>\n",
       "      <th>rates</th>\n",
       "      <th></th>\n",
       "    </tr>\n",
       "  </thead>\n",
       "  <tbody>\n",
       "    <tr>\n",
       "      <th>Rural</th>\n",
       "      <th>1000</th>\n",
       "      <td>179.0</td>\n",
       "    </tr>\n",
       "    <tr>\n",
       "      <th>Semiurban</th>\n",
       "      <th>3000</th>\n",
       "      <td>233.0</td>\n",
       "    </tr>\n",
       "    <tr>\n",
       "      <th>Urban</th>\n",
       "      <th>6000</th>\n",
       "      <td>202.0</td>\n",
       "    </tr>\n",
       "  </tbody>\n",
       "</table>\n",
       "</div>"
      ],
      "text/plain": [
       "                     LoanAmount\n",
       "Property_Area rates            \n",
       "Rural         1000        179.0\n",
       "Semiurban     3000        233.0\n",
       "Urban         6000        202.0"
      ]
     },
     "execution_count": 9,
     "metadata": {},
     "output_type": "execute_result"
    }
   ],
   "source": [
    "# Merging df\n",
    "# right df is prop_rates, inner is intersection of both the keys, left on - col frm left df to be used as key, \n",
    "# right index -if True,use right row/index as keys to merge. refer: https://pandas.pydata.org/pandas-docs/stable/merging.html\n",
    "\n",
    "merged_data = data.merge(right=prop_rates, how='inner', left_on='Property_Area', right_index=True, sort=False) \n",
    "# to confirm merge\n",
    "merged_data.pivot_table(values='LoanAmount', index = ['Property_Area', 'rates'], aggfunc = len) # values can have any col name, \n",
    "                                                                                            # we are jus counting total values\n"
   ]
  },
  {
   "cell_type": "code",
   "execution_count": 10,
   "metadata": {},
   "outputs": [
    {
     "data": {
      "text/html": [
       "<div>\n",
       "<style>\n",
       "    .dataframe thead tr:only-child th {\n",
       "        text-align: right;\n",
       "    }\n",
       "\n",
       "    .dataframe thead th {\n",
       "        text-align: left;\n",
       "    }\n",
       "\n",
       "    .dataframe tbody tr th {\n",
       "        vertical-align: top;\n",
       "    }\n",
       "</style>\n",
       "<table border=\"1\" class=\"dataframe\">\n",
       "  <thead>\n",
       "    <tr style=\"text-align: right;\">\n",
       "      <th></th>\n",
       "      <th>ApplicantIncome</th>\n",
       "      <th>CoapplicantIncome</th>\n",
       "    </tr>\n",
       "    <tr>\n",
       "      <th>Loan_ID</th>\n",
       "      <th></th>\n",
       "      <th></th>\n",
       "    </tr>\n",
       "  </thead>\n",
       "  <tbody>\n",
       "    <tr>\n",
       "      <th>LP002317</th>\n",
       "      <td>81000</td>\n",
       "      <td>0.0</td>\n",
       "    </tr>\n",
       "    <tr>\n",
       "      <th>LP002101</th>\n",
       "      <td>63337</td>\n",
       "      <td>0.0</td>\n",
       "    </tr>\n",
       "    <tr>\n",
       "      <th>LP001585</th>\n",
       "      <td>51763</td>\n",
       "      <td>0.0</td>\n",
       "    </tr>\n",
       "    <tr>\n",
       "      <th>LP001536</th>\n",
       "      <td>39999</td>\n",
       "      <td>0.0</td>\n",
       "    </tr>\n",
       "    <tr>\n",
       "      <th>LP001640</th>\n",
       "      <td>39147</td>\n",
       "      <td>4750.0</td>\n",
       "    </tr>\n",
       "    <tr>\n",
       "      <th>LP002422</th>\n",
       "      <td>37719</td>\n",
       "      <td>0.0</td>\n",
       "    </tr>\n",
       "    <tr>\n",
       "      <th>LP001637</th>\n",
       "      <td>33846</td>\n",
       "      <td>0.0</td>\n",
       "    </tr>\n",
       "    <tr>\n",
       "      <th>LP001448</th>\n",
       "      <td>23803</td>\n",
       "      <td>0.0</td>\n",
       "    </tr>\n",
       "    <tr>\n",
       "      <th>LP002624</th>\n",
       "      <td>20833</td>\n",
       "      <td>6667.0</td>\n",
       "    </tr>\n",
       "    <tr>\n",
       "      <th>LP001922</th>\n",
       "      <td>20667</td>\n",
       "      <td>0.0</td>\n",
       "    </tr>\n",
       "  </tbody>\n",
       "</table>\n",
       "</div>"
      ],
      "text/plain": [
       "          ApplicantIncome  CoapplicantIncome\n",
       "Loan_ID                                     \n",
       "LP002317            81000                0.0\n",
       "LP002101            63337                0.0\n",
       "LP001585            51763                0.0\n",
       "LP001536            39999                0.0\n",
       "LP001640            39147             4750.0\n",
       "LP002422            37719                0.0\n",
       "LP001637            33846                0.0\n",
       "LP001448            23803                0.0\n",
       "LP002624            20833             6667.0\n",
       "LP001922            20667                0.0"
      ]
     },
     "execution_count": 10,
     "metadata": {},
     "output_type": "execute_result"
    }
   ],
   "source": [
    "# Sorting df\n",
    "data_sorted = data.sort_values(['ApplicantIncome','CoapplicantIncome'], ascending = False)\n",
    "data_sorted[['ApplicantIncome','CoapplicantIncome']].head(10)"
   ]
  },
  {
   "cell_type": "code",
   "execution_count": 11,
   "metadata": {},
   "outputs": [
    {
     "data": {
      "text/plain": [
       "<matplotlib.axes._subplots.AxesSubplot at 0x1d6bcdbddd8>"
      ]
     },
     "execution_count": 11,
     "metadata": {},
     "output_type": "execute_result"
    },
    {
     "data": {
      "image/png": "[encoded data removed]",
      "text/plain": [
       "<matplotlib.figure.Figure at 0x1d6bae84358>"
      ]
     },
     "metadata": {},
     "output_type": "display_data"
    }
   ],
   "source": [
    "# plotting df - boxplot and hist in pandas\n",
    "%matplotlib inline\n",
    "\n",
    "import matplotlib.pyplot as plt\n",
    "\n",
    "data.boxplot(column='ApplicantIncome', by='Loan_Status')"
   ]
  },
  {
   "cell_type": "code",
   "execution_count": 12,
   "metadata": {},
   "outputs": [
    {
     "data": {
      "text/plain": [
       "array([<matplotlib.axes._subplots.AxesSubplot object at 0x000001D6BCDEDB38>,\n",
       "       <matplotlib.axes._subplots.AxesSubplot object at 0x000001D6BCEF56D8>], dtype=object)"
      ]
     },
     "execution_count": 12,
     "metadata": {},
     "output_type": "execute_result"
    },
    {
     "data": {
      "image/png": "[encoded data removed]",
      "text/plain": [
       "<matplotlib.figure.Figure at 0x1d6bae84c18>"
      ]
     },
     "metadata": {},
     "output_type": "display_data"
    }
   ],
   "source": [
    "data.hist(column='ApplicantIncome', by='Loan_Status', bins = 50)# bins-no. of pillars/groups the data is divided into in the plot"
   ]
  },
  {
   "cell_type": "code",
   "execution_count": 13,
   "metadata": {},
   "outputs": [
    {
     "name": "stdout",
     "output_type": "stream",
     "text": [
      "low          104\n",
      "medium       273\n",
      "high         146\n",
      "very high     91\n",
      "Name: LoanAmount_bin, dtype: int64\n"
     ]
    }
   ],
   "source": [
    "# to bin data into different bins using cut function\n",
    "\n",
    "def binning(col, breaks, labels):\n",
    "    min_value = col.min()\n",
    "    max_value = col.max()\n",
    "    \n",
    "    break_pts = [min_value] + breaks + [max_value]\n",
    "    \n",
    "    #if no labels provided, use default labels 0 ... (n-1)\n",
    "    if not labels:\n",
    "        labels = range(len(breaks)+1)\n",
    "\n",
    "    bins = pd.cut(col, bins=break_pts, labels=labels, include_lowest=True)\n",
    "    return bins\n",
    "\n",
    "# Binning based on loan amount   \n",
    "\n",
    "break_pts=[90,140,190]\n",
    "labels=[\"low\",\"medium\",\"high\",\"very high\"]\n",
    "data[\"LoanAmount_bin\"] = binning(data[\"LoanAmount\"], break_pts, labels)\n",
    "print (pd.value_counts(data[\"LoanAmount_bin\"], sort=False))\n",
    "\n",
    "    "
   ]
  },
  {
   "cell_type": "markdown",
   "metadata": {},
   "source": [
    "Often, we find a case where we’ve to modify the categories of a nominal variable. This can be due to various reasons:\n",
    "\n",
    "Some algorithms (like Logistic Regression) require all inputs to be numeric. So nominal variables are mostly coded as 0, 1….(n-1)\n",
    "Sometimes a category might be represented in 2 ways. For e.g. temperature might be recorded as “High”, “Medium”, “Low”, “H”, \n",
    "“low”. Here, both “High” and “H” refer to same category. Similarly, in “Low” and “low” there is only a difference of case. \n",
    "But, python would read them as different levels.\n",
    "Some categories might have very low frequencies and its generally a good idea to combine them.\n",
    "Here I’ve defined a generic function which takes in input as a dictionary and codes the values using ‘replace’ function in Pandas."
   ]
  },
  {
   "cell_type": "code",
   "execution_count": 15,
   "metadata": {},
   "outputs": [
    {
     "name": "stdout",
     "output_type": "stream",
     "text": [
      "Before coding: \n",
      "Y    422\n",
      "N    192\n",
      "Name: Loan_Status, dtype: int64\n",
      "After coding: \n",
      "1    422\n",
      "0    192\n",
      "Name: Loan_Status_Coded, dtype: int64\n"
     ]
    }
   ],
   "source": [
    "def coding(col, codeDict):\n",
    "    colCoded = pd.Series(col, copy=True)\n",
    "    for key, value in codeDict.items():\n",
    "        colCoded.replace(key, value, inplace=True)\n",
    "    return colCoded\n",
    "\n",
    "print (\"Before coding: \")\n",
    "print (pd.value_counts(data[\"Loan_Status\"]))\n",
    "data[\"Loan_Status_Coded\"] = coding(data[\"Loan_Status\"], {'N':0,'Y':1})\n",
    "print (\"After coding: \")\n",
    "print (pd.value_counts(data[\"Loan_Status_Coded\"]))\n"
   ]
  },
  {
   "cell_type": "markdown",
   "metadata": {
    "collapsed": true
   },
   "source": [
    " Iterating over rows of a dataframe\n",
    "\n",
    "This is not a frequently used operation. Still, you don’t want to get stuck. At times you may need to iterate through all rows using a for loop. For instance, one common problem we face is the incorrect treatment of variables in Python. This generally happens when:\n",
    "\n",
    "1. Nominal variables with numeric categories are treated as numerical.\n",
    "2. Numeric variables with characters entered in one of the rows (due to a data error) are considered categorical.\n",
    "3. So it’s generally a good idea to manually define the column types. If we check the data types of all columns:\n"
   ]
  },
  {
   "cell_type": "code",
   "execution_count": 17,
   "metadata": {},
   "outputs": [
    {
     "data": {
      "text/plain": [
       "Gender                 object\n",
       "Married                object\n",
       "Dependents             object\n",
       "Education              object\n",
       "Self_Employed          object\n",
       "ApplicantIncome         int64\n",
       "CoapplicantIncome     float64\n",
       "LoanAmount            float64\n",
       "Loan_Amount_Term      float64\n",
       "Credit_History        float64\n",
       "Property_Area          object\n",
       "Loan_Status            object\n",
       "LoanAmount_bin       category\n",
       "Loan_Status_Coded       int64\n",
       "dtype: object"
      ]
     },
     "execution_count": 17,
     "metadata": {},
     "output_type": "execute_result"
    }
   ],
   "source": [
    "# check current datatypes by row\n",
    "data.dtypes"
   ]
  },
  {
   "cell_type": "markdown",
   "metadata": {
    "collapsed": true
   },
   "source": [
    "Here we see that Credit_History is a nominal variable but appearing as float. A good way to tackle such issues is to \n",
    "create a csv file with column names and types. This way, we can make a generic function to read the file and assign \n",
    "column data types. For instance, here I have created a csv file datatypes.csv.\n"
   ]
  },
  {
   "cell_type": "code",
   "execution_count": 19,
   "metadata": {},
   "outputs": [
    {
     "name": "stdout",
     "output_type": "stream",
     "text": [
      "              feature         type\n",
      "0             Loan_ID  categorical\n",
      "1              Gender  categorical\n",
      "2             Married  categorical\n",
      "3          Dependents  categorical\n",
      "4           Education  categorical\n",
      "5       Self_Employed  categorical\n",
      "6     ApplicantIncome   continuous\n",
      "7   CoapplicantIncome   continuous\n",
      "8          LoanAmount   continuous\n",
      "9    Loan_Amount_Term   continuous\n",
      "10     Credit_History  categorical\n",
      "11      Property_Area  categorical\n",
      "12        Loan_Status  categorical\n"
     ]
    }
   ],
   "source": [
    "colTypes = pd.read_csv('datatypes.csv')\n",
    "print (colTypes)"
   ]
  },
  {
   "cell_type": "code",
   "execution_count": 20,
   "metadata": {},
   "outputs": [
    {
     "name": "stdout",
     "output_type": "stream",
     "text": [
      "Gender                 object\n",
      "Married                object\n",
      "Dependents             object\n",
      "Education              object\n",
      "Self_Employed          object\n",
      "ApplicantIncome       float64\n",
      "CoapplicantIncome     float64\n",
      "LoanAmount            float64\n",
      "Loan_Amount_Term      float64\n",
      "Credit_History         object\n",
      "Property_Area          object\n",
      "Loan_Status            object\n",
      "LoanAmount_bin       category\n",
      "Loan_Status_Coded       int64\n",
      "dtype: object\n"
     ]
    }
   ],
   "source": [
    "# After loading this file, we can iterate through each row and assign the datatype using column ‘type’ to the variable \n",
    "# name defined in the ‘feature’ column.\n",
    "\n",
    "for i,row in colTypes.iterrows(): #i: dataframe index; row: each row in series format\n",
    "    if row['feature'] != 'Loan_ID': # data does not include it, so skip it\n",
    "        if row['type'] == 'categorical':\n",
    "            data[row['feature']]=data[row['feature']].astype(np.object)\n",
    "        elif row['type'] == 'continuous':\n",
    "            data[row['feature']] = data[row['feature']].astype(np.float)\n",
    "            \n",
    "# Now the credit history column is modified to ‘object’ type which is used for representing nominal variables in Pandas.\n",
    "print (data.dtypes)"
   ]
  },
  {
   "cell_type": "code",
   "execution_count": null,
   "metadata": {
    "collapsed": true
   },
   "outputs": [],
   "source": []
  }
 ],
 "metadata": {
  "kernelspec": {
   "display_name": "Python 3",
   "language": "python",
   "name": "python3"
  },
  "language_info": {
   "codemirror_mode": {
    "name": "ipython",
    "version": 3
   },
   "file_extension": ".py",
   "mimetype": "text/x-python",
   "name": "python",
   "nbconvert_exporter": "python",
   "pygments_lexer": "ipython3",
   "version": "3.5.2"
  }
 },
 "nbformat": 4,
 "nbformat_minor": 2
}
