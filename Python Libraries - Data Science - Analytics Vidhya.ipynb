{
 "cells": [
  {
   "cell_type": "markdown",
   "metadata": {},
   "source": [
    "# refer https://www.analyticsvidhya.com/blog/2016/01/complete-tutorial-learn-data-science-python-scratch-2/\n",
    "NumPy stands for Numerical Python. The most powerful feature of NumPy is n-dimensional array. This library also contains basic linear algebra functions, Fourier transforms,  advanced random number capabilities and tools for integration with other low level languages like Fortran, C and C++\n",
    "\n",
    "SciPy stands for Scientific Python. SciPy is built on NumPy. It is one of the most useful library for variety of high level science and engineering modules like discrete Fourier transform, Linear Algebra, Optimization and Sparse matrices.\n",
    "Matplotlib for plotting vast variety of graphs, starting from histograms to line plots to heat plots.. You can use Pylab feature in ipython notebook (ipython notebook –pylab = inline) to use these plotting features inline. If you ignore the inline option, then pylab converts ipython environment to an environment, very similar to Matlab. You can also use Latex commands to add math to your plot.\n",
    "\n",
    "Pandas for structured data operations and manipulations. It is extensively used for data munging and preparation. Pandas were added relatively recently to Python and have been instrumental in boosting Python’s usage in data scientist community.\n",
    "\n",
    "Scikit Learn for machine learning. Built on NumPy, SciPy and matplotlib, this library contains a lot of effiecient tools for machine learning and statistical modeling including classification, regression, clustering and dimensionality reduction.\n",
    "Statsmodels for statistical modeling. Statsmodels is a Python module that allows users to explore data, estimate statistical models, and perform statistical tests. An extensive list of descriptive statistics, statistical tests, plotting functions, and result statistics are available for different types of data and each estimator.\n",
    "\n",
    "Seaborn for statistical data visualization. Seaborn is a library for making attractive and informative statistical graphics in Python. It is based on matplotlib. Seaborn aims to make visualization a central part of exploring and understanding data.\n",
    "\n",
    "Bokeh for creating interactive plots, dashboards and data applications on modern web-browsers. It empowers the user to generate elegant and concise graphics in the style of D3.js. Moreover, it has the capability of high-performance interactivity over very large or streaming datasets.\n",
    "\n",
    "Blaze for extending the capability of Numpy and Pandas to distributed and streaming datasets. It can be used to access data from a multitude of sources including Bcolz, MongoDB, SQLAlchemy, Apache Spark, PyTables, etc. Together with Bokeh, Blaze can act as a very powerful tool for creating effective visualizations and dashboards on huge chunks of data.\n",
    "\n",
    "Scrapy for web crawling. It is a very useful framework for getting specific patterns of data. It has the capability to start at a website home url and then dig through web-pages within the website to gather information.\n",
    "\n",
    "SymPy for symbolic computation. It has wide-ranging capabilities from basic symbolic arithmetic to calculus, algebra, discrete mathematics and quantum physics. Another useful feature is the capability of formatting the result of the computations as LaTeX code.\n",
    "\n",
    "Requests for accessing the web. It works similar to the the standard python library urllib2 but is much easier to code. You will find subtle differences with urllib2 but for beginners, Requests might be more convenient.\n",
    "\n",
    "Additional libraries, you might need:\n",
    "\n",
    "os for Operating system and file operations\n",
    "\n",
    "networkx and igraph for graph based data manipulations\n",
    "\n",
    "regular expressions for finding patterns in text data\n",
    "\n",
    "BeautifulSoup for scrapping web. It is inferior to Scrapy as it will extract information from just a single webpage in a run."
   ]
  },
  {
   "cell_type": "markdown",
   "metadata": {},
   "source": [
    "# 3 key phases:\n",
    "\n",
    "Data Exploration – finding out more about the data we have\n",
    "\n",
    "Data Munging – cleaning the data and playing with it to make it better suit statistical modeling\n",
    "\n",
    "Predictive Modeling – running the actual algorithms and having fun "
   ]
  },
  {
   "cell_type": "markdown",
   "metadata": {},
   "source": [
    "# Advanced datastructures\n",
    "\n",
    "Series can be understood as a 1 dimensional labelled / indexed array. You can access individual elements of this series through these labels.\n",
    "\n",
    "A dataframe is similar to Excel workbook – you have column names referring to columns and you have rows, which can be accessed with use of row numbers. The essential difference being that column names and row numbers are known as column and row index, in case of dataframes.\n",
    "\n",
    "Series and dataframes form the core data model for Pandas in Python. The data sets are first read into these dataframes and then various operations (e.g. group by, aggregation etc.) can be applied very easily to its columns."
   ]
  },
  {
   "cell_type": "markdown",
   "metadata": {},
   "source": [
    "# refer 10 mins to pandas for more info\n",
    "http://pandas.pydata.org/pandas-docs/stable/10min.html\n",
    "\n",
    "Creating a Series by passing a list of values, letting pandas create a default integer index:\n",
    "\n",
    "In [4]: s = pd.Series([1,3,5,np.nan,6,8])\n",
    "\n",
    "In [5]: s\n",
    "Out[5]: \n",
    "0    1.0\n",
    "1    3.0\n",
    "2    5.0\n",
    "3    NaN\n",
    "4    6.0\n",
    "5    8.0\n",
    "dtype: float64\n",
    "\n",
    "Creating a DataFrame by passing a numpy array, with a datetime index and labeled columns:\n",
    "\n",
    "In [6]: dates = pd.date_range('20130101', periods=6)\n",
    "\n",
    "In [7]: dates\n",
    "Out[7]: \n",
    "DatetimeIndex(['2013-01-01', '2013-01-02', '2013-01-03', '2013-01-04',\n",
    "               '2013-01-05', '2013-01-06'],\n",
    "              dtype='datetime64[ns]', freq='D')\n",
    "\n",
    "In [8]: df = pd.DataFrame(np.random.randn(6,4), index=dates, columns=list('ABCD'))\n",
    "\n",
    "In [9]: df\n",
    "Out[9]: \n",
    "                   A         B         C         D\n",
    "2013-01-01  0.469112 -0.282863 -1.509059 -1.135632\n",
    "2013-01-02  1.212112 -0.173215  0.119209 -1.044236\n",
    "2013-01-03 -0.861849 -2.104569 -0.494929  1.071804\n",
    "2013-01-04  0.721555 -0.706771 -1.039575  0.271860\n",
    "2013-01-05 -0.424972  0.567020  0.276232 -1.087401\n",
    "2013-01-06 -0.673690  0.113648 -1.478427  0.524988"
   ]
  },
  {
   "cell_type": "code",
   "execution_count": null,
   "metadata": {
    "collapsed": true
   },
   "outputs": [],
   "source": []
  }
 ],
 "metadata": {
  "kernelspec": {
   "display_name": "Python 2",
   "language": "python",
   "name": "python2"
  },
  "language_info": {
   "codemirror_mode": {
    "name": "ipython",
    "version": 2
   },
   "file_extension": ".py",
   "mimetype": "text/x-python",
   "name": "python",
   "nbconvert_exporter": "python",
   "pygments_lexer": "ipython2",
   "version": "2.7.13"
  }
 },
 "nbformat": 4,
 "nbformat_minor": 2
}
